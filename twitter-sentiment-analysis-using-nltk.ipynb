{
 "cells": [
  {
   "cell_type": "markdown",
   "metadata": {
    "collapsed": false,
    "jupyter": {
     "outputs_hidden": false
    }
   },
   "source": [
    "SENTIMENT ANALYSIS OF SOCIAL MEDIA WEB APP\n",
    "\n",
    "DONE BY\n",
    "\n",
    "21bce7609 - Vejandla Vighnesh\n",
    "\n",
    "21bce7438 - Chitturi Sowmya"
   ]
  },
  {
   "cell_type": "code",
   "execution_count": 1,
   "metadata": {
    "ExecuteTime": {
     "end_time": "2024-06-10T08:03:10.543976200Z",
     "start_time": "2024-06-10T08:03:10.538964800Z"
    },
    "_cell_guid": "b1076dfc-b9ad-4769-8c92-a6c4dae69d19",
    "_uuid": "8f2839f25d086af736a60e9eeb907d3b93b6e0e5",
    "execution": {
     "iopub.execute_input": "2024-02-09T06:08:45.943059Z",
     "iopub.status.busy": "2024-02-09T06:08:45.942641Z",
     "iopub.status.idle": "2024-02-09T06:08:49.577407Z",
     "shell.execute_reply": "2024-02-09T06:08:49.576194Z",
     "shell.execute_reply.started": "2024-02-09T06:08:45.943024Z"
    }
   },
   "outputs": [],
   "source": [
    "import pandas as pd\n",
    "from nltk.stem.porter import PorterStemmer\n",
    "from sklearn.feature_extraction.text import TfidfVectorizer\n",
    "from sklearn.model_selection import train_test_split\n",
    "from sklearn.metrics import accuracy_score\n",
    "from nltk.corpus import stopwords"
   ]
  },
  {
   "cell_type": "code",
   "execution_count": 2,
   "metadata": {
    "ExecuteTime": {
     "end_time": "2024-06-10T08:03:16.636725700Z",
     "start_time": "2024-06-10T08:03:11.153483500Z"
    },
    "execution": {
     "iopub.execute_input": "2024-02-09T06:09:56.098419Z",
     "iopub.status.busy": "2024-02-09T06:09:56.097451Z",
     "iopub.status.idle": "2024-02-09T06:10:05.11584Z",
     "shell.execute_reply": "2024-02-09T06:10:05.114963Z",
     "shell.execute_reply.started": "2024-02-09T06:09:56.098384Z"
    }
   },
   "outputs": [],
   "source": [
    "twitter_data = pd.read_csv('D:/sem 6/lab/NPL/project/project-4/training.1600000.processed.noemoticon.csv', encoding = 'ISO-8859-1')"
   ]
  },
  {
   "cell_type": "code",
   "execution_count": 3,
   "metadata": {
    "ExecuteTime": {
     "end_time": "2024-06-10T08:03:16.673435900Z",
     "start_time": "2024-06-10T08:03:16.641739Z"
    },
    "execution": {
     "iopub.execute_input": "2024-02-09T06:10:17.448295Z",
     "iopub.status.busy": "2024-02-09T06:10:17.447838Z",
     "iopub.status.idle": "2024-02-09T06:10:17.458479Z",
     "shell.execute_reply": "2024-02-09T06:10:17.456895Z",
     "shell.execute_reply.started": "2024-02-09T06:10:17.448263Z"
    }
   },
   "outputs": [
    {
     "data": {
      "text/plain": [
       "(1599999, 6)"
      ]
     },
     "execution_count": 3,
     "metadata": {},
     "output_type": "execute_result"
    }
   ],
   "source": [
    "twitter_data.shape"
   ]
  },
  {
   "cell_type": "code",
   "execution_count": 4,
   "metadata": {
    "ExecuteTime": {
     "end_time": "2024-06-10T08:03:16.704906600Z",
     "start_time": "2024-06-10T08:03:16.673435900Z"
    },
    "execution": {
     "iopub.execute_input": "2024-02-09T06:10:27.004246Z",
     "iopub.status.busy": "2024-02-09T06:10:27.003657Z",
     "iopub.status.idle": "2024-02-09T06:10:27.030389Z",
     "shell.execute_reply": "2024-02-09T06:10:27.028683Z",
     "shell.execute_reply.started": "2024-02-09T06:10:27.004203Z"
    }
   },
   "outputs": [
    {
     "data": {
      "text/html": [
       "<div>\n",
       "<style scoped>\n",
       "    .dataframe tbody tr th:only-of-type {\n",
       "        vertical-align: middle;\n",
       "    }\n",
       "\n",
       "    .dataframe tbody tr th {\n",
       "        vertical-align: top;\n",
       "    }\n",
       "\n",
       "    .dataframe thead th {\n",
       "        text-align: right;\n",
       "    }\n",
       "</style>\n",
       "<table border=\"1\" class=\"dataframe\">\n",
       "  <thead>\n",
       "    <tr style=\"text-align: right;\">\n",
       "      <th></th>\n",
       "      <th>0</th>\n",
       "      <th>1467810369</th>\n",
       "      <th>Mon Apr 06 22:19:45 PDT 2009</th>\n",
       "      <th>NO_QUERY</th>\n",
       "      <th>_TheSpecialOne_</th>\n",
       "      <th>@switchfoot http://twitpic.com/2y1zl - Awww, that's a bummer.  You shoulda got David Carr of Third Day to do it. ;D</th>\n",
       "    </tr>\n",
       "  </thead>\n",
       "  <tbody>\n",
       "    <tr>\n",
       "      <th>0</th>\n",
       "      <td>0</td>\n",
       "      <td>1467810672</td>\n",
       "      <td>Mon Apr 06 22:19:49 PDT 2009</td>\n",
       "      <td>NO_QUERY</td>\n",
       "      <td>scotthamilton</td>\n",
       "      <td>is upset that he can't update his Facebook by ...</td>\n",
       "    </tr>\n",
       "    <tr>\n",
       "      <th>1</th>\n",
       "      <td>0</td>\n",
       "      <td>1467810917</td>\n",
       "      <td>Mon Apr 06 22:19:53 PDT 2009</td>\n",
       "      <td>NO_QUERY</td>\n",
       "      <td>mattycus</td>\n",
       "      <td>@Kenichan I dived many times for the ball. Man...</td>\n",
       "    </tr>\n",
       "    <tr>\n",
       "      <th>2</th>\n",
       "      <td>0</td>\n",
       "      <td>1467811184</td>\n",
       "      <td>Mon Apr 06 22:19:57 PDT 2009</td>\n",
       "      <td>NO_QUERY</td>\n",
       "      <td>ElleCTF</td>\n",
       "      <td>my whole body feels itchy and like its on fire</td>\n",
       "    </tr>\n",
       "    <tr>\n",
       "      <th>3</th>\n",
       "      <td>0</td>\n",
       "      <td>1467811193</td>\n",
       "      <td>Mon Apr 06 22:19:57 PDT 2009</td>\n",
       "      <td>NO_QUERY</td>\n",
       "      <td>Karoli</td>\n",
       "      <td>@nationwideclass no, it's not behaving at all....</td>\n",
       "    </tr>\n",
       "    <tr>\n",
       "      <th>4</th>\n",
       "      <td>0</td>\n",
       "      <td>1467811372</td>\n",
       "      <td>Mon Apr 06 22:20:00 PDT 2009</td>\n",
       "      <td>NO_QUERY</td>\n",
       "      <td>joy_wolf</td>\n",
       "      <td>@Kwesidei not the whole crew</td>\n",
       "    </tr>\n",
       "  </tbody>\n",
       "</table>\n",
       "</div>"
      ],
      "text/plain": [
       "   0  1467810369  Mon Apr 06 22:19:45 PDT 2009  NO_QUERY _TheSpecialOne_  \\\n",
       "0  0  1467810672  Mon Apr 06 22:19:49 PDT 2009  NO_QUERY   scotthamilton   \n",
       "1  0  1467810917  Mon Apr 06 22:19:53 PDT 2009  NO_QUERY        mattycus   \n",
       "2  0  1467811184  Mon Apr 06 22:19:57 PDT 2009  NO_QUERY         ElleCTF   \n",
       "3  0  1467811193  Mon Apr 06 22:19:57 PDT 2009  NO_QUERY          Karoli   \n",
       "4  0  1467811372  Mon Apr 06 22:20:00 PDT 2009  NO_QUERY        joy_wolf   \n",
       "\n",
       "  @switchfoot http://twitpic.com/2y1zl - Awww, that's a bummer.  You shoulda got David Carr of Third Day to do it. ;D  \n",
       "0  is upset that he can't update his Facebook by ...                                                                   \n",
       "1  @Kenichan I dived many times for the ball. Man...                                                                   \n",
       "2    my whole body feels itchy and like its on fire                                                                    \n",
       "3  @nationwideclass no, it's not behaving at all....                                                                   \n",
       "4                      @Kwesidei not the whole crew                                                                    "
      ]
     },
     "execution_count": 4,
     "metadata": {},
     "output_type": "execute_result"
    }
   ],
   "source": [
    "twitter_data.head()"
   ]
  },
  {
   "cell_type": "code",
   "execution_count": 5,
   "metadata": {
    "ExecuteTime": {
     "end_time": "2024-06-10T08:03:21.646673200Z",
     "start_time": "2024-06-10T08:03:16.673435900Z"
    },
    "execution": {
     "iopub.execute_input": "2024-02-09T06:10:30.358472Z",
     "iopub.status.busy": "2024-02-09T06:10:30.357975Z",
     "iopub.status.idle": "2024-02-09T06:10:36.040285Z",
     "shell.execute_reply": "2024-02-09T06:10:36.039353Z",
     "shell.execute_reply.started": "2024-02-09T06:10:30.358435Z"
    }
   },
   "outputs": [],
   "source": [
    "column_names = ['target','id','date','flag','user','text']\n",
    "twitter_data = pd.read_csv('D:/sem 6/lab/NPL/project/project-4/training.1600000.processed.noemoticon.csv',names = column_names, encoding = 'ISO-8859-1')"
   ]
  },
  {
   "cell_type": "code",
   "execution_count": 6,
   "metadata": {
    "ExecuteTime": {
     "end_time": "2024-06-10T08:03:21.655409200Z",
     "start_time": "2024-06-10T08:03:21.646673200Z"
    },
    "execution": {
     "iopub.execute_input": "2024-02-09T06:10:48.455955Z",
     "iopub.status.busy": "2024-02-09T06:10:48.454519Z",
     "iopub.status.idle": "2024-02-09T06:10:48.464223Z",
     "shell.execute_reply": "2024-02-09T06:10:48.462576Z",
     "shell.execute_reply.started": "2024-02-09T06:10:48.455903Z"
    }
   },
   "outputs": [
    {
     "data": {
      "text/plain": [
       "(1600000, 6)"
      ]
     },
     "execution_count": 6,
     "metadata": {},
     "output_type": "execute_result"
    }
   ],
   "source": [
    "twitter_data.shape"
   ]
  },
  {
   "cell_type": "code",
   "execution_count": 7,
   "metadata": {
    "ExecuteTime": {
     "end_time": "2024-06-10T08:03:21.670242400Z",
     "start_time": "2024-06-10T08:03:21.660593200Z"
    },
    "execution": {
     "iopub.execute_input": "2024-02-09T06:10:50.740544Z",
     "iopub.status.busy": "2024-02-09T06:10:50.739807Z",
     "iopub.status.idle": "2024-02-09T06:10:50.756579Z",
     "shell.execute_reply": "2024-02-09T06:10:50.755045Z",
     "shell.execute_reply.started": "2024-02-09T06:10:50.740494Z"
    }
   },
   "outputs": [
    {
     "data": {
      "text/html": [
       "<div>\n",
       "<style scoped>\n",
       "    .dataframe tbody tr th:only-of-type {\n",
       "        vertical-align: middle;\n",
       "    }\n",
       "\n",
       "    .dataframe tbody tr th {\n",
       "        vertical-align: top;\n",
       "    }\n",
       "\n",
       "    .dataframe thead th {\n",
       "        text-align: right;\n",
       "    }\n",
       "</style>\n",
       "<table border=\"1\" class=\"dataframe\">\n",
       "  <thead>\n",
       "    <tr style=\"text-align: right;\">\n",
       "      <th></th>\n",
       "      <th>target</th>\n",
       "      <th>id</th>\n",
       "      <th>date</th>\n",
       "      <th>flag</th>\n",
       "      <th>user</th>\n",
       "      <th>text</th>\n",
       "    </tr>\n",
       "  </thead>\n",
       "  <tbody>\n",
       "    <tr>\n",
       "      <th>0</th>\n",
       "      <td>0</td>\n",
       "      <td>1467810369</td>\n",
       "      <td>Mon Apr 06 22:19:45 PDT 2009</td>\n",
       "      <td>NO_QUERY</td>\n",
       "      <td>_TheSpecialOne_</td>\n",
       "      <td>@switchfoot http://twitpic.com/2y1zl - Awww, t...</td>\n",
       "    </tr>\n",
       "    <tr>\n",
       "      <th>1</th>\n",
       "      <td>0</td>\n",
       "      <td>1467810672</td>\n",
       "      <td>Mon Apr 06 22:19:49 PDT 2009</td>\n",
       "      <td>NO_QUERY</td>\n",
       "      <td>scotthamilton</td>\n",
       "      <td>is upset that he can't update his Facebook by ...</td>\n",
       "    </tr>\n",
       "    <tr>\n",
       "      <th>2</th>\n",
       "      <td>0</td>\n",
       "      <td>1467810917</td>\n",
       "      <td>Mon Apr 06 22:19:53 PDT 2009</td>\n",
       "      <td>NO_QUERY</td>\n",
       "      <td>mattycus</td>\n",
       "      <td>@Kenichan I dived many times for the ball. Man...</td>\n",
       "    </tr>\n",
       "    <tr>\n",
       "      <th>3</th>\n",
       "      <td>0</td>\n",
       "      <td>1467811184</td>\n",
       "      <td>Mon Apr 06 22:19:57 PDT 2009</td>\n",
       "      <td>NO_QUERY</td>\n",
       "      <td>ElleCTF</td>\n",
       "      <td>my whole body feels itchy and like its on fire</td>\n",
       "    </tr>\n",
       "    <tr>\n",
       "      <th>4</th>\n",
       "      <td>0</td>\n",
       "      <td>1467811193</td>\n",
       "      <td>Mon Apr 06 22:19:57 PDT 2009</td>\n",
       "      <td>NO_QUERY</td>\n",
       "      <td>Karoli</td>\n",
       "      <td>@nationwideclass no, it's not behaving at all....</td>\n",
       "    </tr>\n",
       "  </tbody>\n",
       "</table>\n",
       "</div>"
      ],
      "text/plain": [
       "   target          id                          date      flag  \\\n",
       "0       0  1467810369  Mon Apr 06 22:19:45 PDT 2009  NO_QUERY   \n",
       "1       0  1467810672  Mon Apr 06 22:19:49 PDT 2009  NO_QUERY   \n",
       "2       0  1467810917  Mon Apr 06 22:19:53 PDT 2009  NO_QUERY   \n",
       "3       0  1467811184  Mon Apr 06 22:19:57 PDT 2009  NO_QUERY   \n",
       "4       0  1467811193  Mon Apr 06 22:19:57 PDT 2009  NO_QUERY   \n",
       "\n",
       "              user                                               text  \n",
       "0  _TheSpecialOne_  @switchfoot http://twitpic.com/2y1zl - Awww, t...  \n",
       "1    scotthamilton  is upset that he can't update his Facebook by ...  \n",
       "2         mattycus  @Kenichan I dived many times for the ball. Man...  \n",
       "3          ElleCTF    my whole body feels itchy and like its on fire   \n",
       "4           Karoli  @nationwideclass no, it's not behaving at all....  "
      ]
     },
     "execution_count": 7,
     "metadata": {},
     "output_type": "execute_result"
    }
   ],
   "source": [
    "twitter_data.head()"
   ]
  },
  {
   "cell_type": "code",
   "execution_count": 8,
   "metadata": {
    "ExecuteTime": {
     "end_time": "2024-06-10T08:03:21.881926900Z",
     "start_time": "2024-06-10T08:03:21.676256600Z"
    },
    "execution": {
     "iopub.execute_input": "2024-02-09T06:10:53.610208Z",
     "iopub.status.busy": "2024-02-09T06:10:53.609756Z",
     "iopub.status.idle": "2024-02-09T06:10:54.346539Z",
     "shell.execute_reply": "2024-02-09T06:10:54.345002Z",
     "shell.execute_reply.started": "2024-02-09T06:10:53.610173Z"
    }
   },
   "outputs": [
    {
     "data": {
      "text/plain": [
       "target    0\n",
       "id        0\n",
       "date      0\n",
       "flag      0\n",
       "user      0\n",
       "text      0\n",
       "dtype: int64"
      ]
     },
     "execution_count": 8,
     "metadata": {},
     "output_type": "execute_result"
    }
   ],
   "source": [
    "twitter_data.isnull().sum()"
   ]
  },
  {
   "cell_type": "code",
   "execution_count": 9,
   "metadata": {
    "ExecuteTime": {
     "end_time": "2024-06-10T08:03:21.897335400Z",
     "start_time": "2024-06-10T08:03:21.881926900Z"
    },
    "execution": {
     "iopub.execute_input": "2024-02-09T06:10:55.873978Z",
     "iopub.status.busy": "2024-02-09T06:10:55.873463Z",
     "iopub.status.idle": "2024-02-09T06:10:55.908291Z",
     "shell.execute_reply": "2024-02-09T06:10:55.907005Z",
     "shell.execute_reply.started": "2024-02-09T06:10:55.873942Z"
    }
   },
   "outputs": [
    {
     "data": {
      "text/plain": [
       "target\n",
       "0    800000\n",
       "4    800000\n",
       "Name: count, dtype: int64"
      ]
     },
     "execution_count": 9,
     "metadata": {},
     "output_type": "execute_result"
    }
   ],
   "source": [
    "twitter_data['target'].value_counts()"
   ]
  },
  {
   "cell_type": "code",
   "execution_count": 10,
   "metadata": {
    "ExecuteTime": {
     "end_time": "2024-06-10T08:03:21.950060600Z",
     "start_time": "2024-06-10T08:03:21.897335400Z"
    },
    "execution": {
     "iopub.execute_input": "2024-02-09T06:10:58.933677Z",
     "iopub.status.busy": "2024-02-09T06:10:58.933144Z",
     "iopub.status.idle": "2024-02-09T06:10:58.95741Z",
     "shell.execute_reply": "2024-02-09T06:10:58.955827Z",
     "shell.execute_reply.started": "2024-02-09T06:10:58.933634Z"
    }
   },
   "outputs": [],
   "source": [
    "twitter_data.replace({'target':{4:2}}, inplace=True)"
   ]
  },
  {
   "cell_type": "code",
   "execution_count": 11,
   "metadata": {
    "ExecuteTime": {
     "end_time": "2024-06-10T08:03:21.950060600Z",
     "start_time": "2024-06-10T08:03:21.930528500Z"
    },
    "execution": {
     "iopub.execute_input": "2024-02-09T06:11:20.615814Z",
     "iopub.status.busy": "2024-02-09T06:11:20.615384Z",
     "iopub.status.idle": "2024-02-09T06:11:20.642142Z",
     "shell.execute_reply": "2024-02-09T06:11:20.640618Z",
     "shell.execute_reply.started": "2024-02-09T06:11:20.615783Z"
    }
   },
   "outputs": [
    {
     "data": {
      "text/plain": [
       "target\n",
       "0    800000\n",
       "2    800000\n",
       "Name: count, dtype: int64"
      ]
     },
     "execution_count": 11,
     "metadata": {},
     "output_type": "execute_result"
    }
   ],
   "source": [
    "twitter_data['target'].value_counts()"
   ]
  },
  {
   "cell_type": "markdown",
   "metadata": {},
   "source": [
    "0 -- NEGATIVE TWEET, 1-- POSITIVE TWEET"
   ]
  },
  {
   "cell_type": "markdown",
   "metadata": {},
   "source": [
    "STEMMING - PROCESS OF REDUCING WORD TO ITS KEYWORD(ROOTWORD)"
   ]
  },
  {
   "cell_type": "code",
   "execution_count": 15,
   "metadata": {
    "ExecuteTime": {
     "end_time": "2024-06-10T08:03:21.950060600Z",
     "start_time": "2024-06-10T08:03:21.946036900Z"
    },
    "execution": {
     "iopub.execute_input": "2024-02-09T06:11:28.582817Z",
     "iopub.status.busy": "2024-02-09T06:11:28.582368Z",
     "iopub.status.idle": "2024-02-09T06:11:28.588883Z",
     "shell.execute_reply": "2024-02-09T06:11:28.587322Z",
     "shell.execute_reply.started": "2024-02-09T06:11:28.582782Z"
    }
   },
   "outputs": [
    {
     "name": "stderr",
     "output_type": "stream",
     "text": [
      "[nltk_data] Downloading package stopwords to\n",
      "[nltk_data]     C:\\Users\\hp\\AppData\\Roaming\\nltk_data...\n",
      "[nltk_data]   Package stopwords is already up-to-date!\n"
     ]
    }
   ],
   "source": [
    "import re\n",
    "import pandas as pd\n",
    "from nltk.corpus import stopwords\n",
    "from nltk.stem import PorterStemmer\n",
    "import nltk\n",
    "\n",
    "# Download stopwords if not already done\n",
    "nltk.download('stopwords')\n",
    "\n",
    "port_stem = PorterStemmer()\n",
    "def stemming(content):\n",
    "  stemmed_content = re.sub('[^a-zA-Z]',' ',content)\n",
    "  stemmed_content = stemmed_content.lower()\n",
    "  stemmed_content = stemmed_content.split()\n",
    "  stemmed_content = [port_stem.stem(word) for word in stemmed_content if not word in stopwords.words('english')]\n",
    "  stemmed_content = ' '.join(stemmed_content)\n",
    "\n",
    "  return stemmed_content\n",
    "stop_words = set(stopwords.words('english'))\n",
    "porter_stemmer = PorterStemmer()\n",
    "\n",
    "def stemming(content):\n",
    "    content = re.sub('[^a-zA-Z]', ' ', content).lower()    \n",
    "    words = content.split()\n",
    "    stemmed_words = [porter_stemmer.stem(word) for word in words if word not in stop_words]\n",
    "    stemmed_content = ' '.join(stemmed_words)\n",
    "    return stemmed_content\n"
   ]
  },
  {
   "cell_type": "code",
   "execution_count": 16,
   "metadata": {
    "ExecuteTime": {
     "end_time": "2024-06-10T08:03:22.039296900Z",
     "start_time": "2024-06-10T08:03:21.962069300Z"
    }
   },
   "outputs": [],
   "source": [
    "twitter_data['stemmed_content'] = twitter_data['text'].apply(stemming)"
   ]
  },
  {
   "cell_type": "code",
   "execution_count": 17,
   "metadata": {
    "ExecuteTime": {
     "end_time": "2024-06-07T12:21:18.731982700Z",
     "start_time": "2024-06-07T12:21:18.724454600Z"
    }
   },
   "outputs": [
    {
     "data": {
      "text/html": [
       "<div>\n",
       "<style scoped>\n",
       "    .dataframe tbody tr th:only-of-type {\n",
       "        vertical-align: middle;\n",
       "    }\n",
       "\n",
       "    .dataframe tbody tr th {\n",
       "        vertical-align: top;\n",
       "    }\n",
       "\n",
       "    .dataframe thead th {\n",
       "        text-align: right;\n",
       "    }\n",
       "</style>\n",
       "<table border=\"1\" class=\"dataframe\">\n",
       "  <thead>\n",
       "    <tr style=\"text-align: right;\">\n",
       "      <th></th>\n",
       "      <th>target</th>\n",
       "      <th>id</th>\n",
       "      <th>date</th>\n",
       "      <th>flag</th>\n",
       "      <th>user</th>\n",
       "      <th>text</th>\n",
       "      <th>stemmed_content</th>\n",
       "    </tr>\n",
       "  </thead>\n",
       "  <tbody>\n",
       "    <tr>\n",
       "      <th>0</th>\n",
       "      <td>0</td>\n",
       "      <td>1467810369</td>\n",
       "      <td>Mon Apr 06 22:19:45 PDT 2009</td>\n",
       "      <td>NO_QUERY</td>\n",
       "      <td>_TheSpecialOne_</td>\n",
       "      <td>@switchfoot http://twitpic.com/2y1zl - Awww, t...</td>\n",
       "      <td>switchfoot http twitpic com zl awww bummer sho...</td>\n",
       "    </tr>\n",
       "    <tr>\n",
       "      <th>1</th>\n",
       "      <td>0</td>\n",
       "      <td>1467810672</td>\n",
       "      <td>Mon Apr 06 22:19:49 PDT 2009</td>\n",
       "      <td>NO_QUERY</td>\n",
       "      <td>scotthamilton</td>\n",
       "      <td>is upset that he can't update his Facebook by ...</td>\n",
       "      <td>upset updat facebook text might cri result sch...</td>\n",
       "    </tr>\n",
       "    <tr>\n",
       "      <th>2</th>\n",
       "      <td>0</td>\n",
       "      <td>1467810917</td>\n",
       "      <td>Mon Apr 06 22:19:53 PDT 2009</td>\n",
       "      <td>NO_QUERY</td>\n",
       "      <td>mattycus</td>\n",
       "      <td>@Kenichan I dived many times for the ball. Man...</td>\n",
       "      <td>kenichan dive mani time ball manag save rest g...</td>\n",
       "    </tr>\n",
       "    <tr>\n",
       "      <th>3</th>\n",
       "      <td>0</td>\n",
       "      <td>1467811184</td>\n",
       "      <td>Mon Apr 06 22:19:57 PDT 2009</td>\n",
       "      <td>NO_QUERY</td>\n",
       "      <td>ElleCTF</td>\n",
       "      <td>my whole body feels itchy and like its on fire</td>\n",
       "      <td>whole bodi feel itchi like fire</td>\n",
       "    </tr>\n",
       "    <tr>\n",
       "      <th>4</th>\n",
       "      <td>0</td>\n",
       "      <td>1467811193</td>\n",
       "      <td>Mon Apr 06 22:19:57 PDT 2009</td>\n",
       "      <td>NO_QUERY</td>\n",
       "      <td>Karoli</td>\n",
       "      <td>@nationwideclass no, it's not behaving at all....</td>\n",
       "      <td>nationwideclass behav mad see</td>\n",
       "    </tr>\n",
       "  </tbody>\n",
       "</table>\n",
       "</div>"
      ],
      "text/plain": [
       "   target          id                          date      flag  \\\n",
       "0       0  1467810369  Mon Apr 06 22:19:45 PDT 2009  NO_QUERY   \n",
       "1       0  1467810672  Mon Apr 06 22:19:49 PDT 2009  NO_QUERY   \n",
       "2       0  1467810917  Mon Apr 06 22:19:53 PDT 2009  NO_QUERY   \n",
       "3       0  1467811184  Mon Apr 06 22:19:57 PDT 2009  NO_QUERY   \n",
       "4       0  1467811193  Mon Apr 06 22:19:57 PDT 2009  NO_QUERY   \n",
       "\n",
       "              user                                               text  \\\n",
       "0  _TheSpecialOne_  @switchfoot http://twitpic.com/2y1zl - Awww, t...   \n",
       "1    scotthamilton  is upset that he can't update his Facebook by ...   \n",
       "2         mattycus  @Kenichan I dived many times for the ball. Man...   \n",
       "3          ElleCTF    my whole body feels itchy and like its on fire    \n",
       "4           Karoli  @nationwideclass no, it's not behaving at all....   \n",
       "\n",
       "                                     stemmed_content  \n",
       "0  switchfoot http twitpic com zl awww bummer sho...  \n",
       "1  upset updat facebook text might cri result sch...  \n",
       "2  kenichan dive mani time ball manag save rest g...  \n",
       "3                    whole bodi feel itchi like fire  \n",
       "4                      nationwideclass behav mad see  "
      ]
     },
     "execution_count": 17,
     "metadata": {},
     "output_type": "execute_result"
    }
   ],
   "source": [
    "twitter_data.head()"
   ]
  },
  {
   "cell_type": "code",
   "execution_count": 18,
   "metadata": {
    "ExecuteTime": {
     "end_time": "2024-06-07T12:21:18.750457Z",
     "start_time": "2024-06-07T12:21:18.739082500Z"
    },
    "execution": {
     "iopub.execute_input": "2024-02-09T07:47:21.669271Z",
     "iopub.status.busy": "2024-02-09T07:47:21.668783Z",
     "iopub.status.idle": "2024-02-09T07:47:21.680272Z",
     "shell.execute_reply": "2024-02-09T07:47:21.678751Z",
     "shell.execute_reply.started": "2024-02-09T07:47:21.669236Z"
    }
   },
   "outputs": [
    {
     "name": "stdout",
     "output_type": "stream",
     "text": [
      "0          switchfoot http twitpic com zl awww bummer sho...\n",
      "1          upset updat facebook text might cri result sch...\n",
      "2          kenichan dive mani time ball manag save rest g...\n",
      "3                            whole bodi feel itchi like fire\n",
      "4                              nationwideclass behav mad see\n",
      "                                 ...                        \n",
      "1599995                           woke school best feel ever\n",
      "1599996    thewdb com cool hear old walt interview http b...\n",
      "1599997                         readi mojo makeov ask detail\n",
      "1599998    happi th birthday boo alll time tupac amaru sh...\n",
      "1599999    happi charitytuesday thenspcc sparkschar speak...\n",
      "Name: stemmed_content, Length: 1600000, dtype: object\n"
     ]
    }
   ],
   "source": [
    "print(twitter_data['stemmed_content'])"
   ]
  },
  {
   "cell_type": "code",
   "execution_count": 19,
   "metadata": {
    "ExecuteTime": {
     "end_time": "2024-06-09T14:09:43.759166Z",
     "start_time": "2024-06-09T14:09:43.731748800Z"
    },
    "execution": {
     "iopub.execute_input": "2024-02-09T07:47:24.893979Z",
     "iopub.status.busy": "2024-02-09T07:47:24.89347Z",
     "iopub.status.idle": "2024-02-09T07:47:24.901881Z",
     "shell.execute_reply": "2024-02-09T07:47:24.900573Z",
     "shell.execute_reply.started": "2024-02-09T07:47:24.893939Z"
    }
   },
   "outputs": [
    {
     "name": "stdout",
     "output_type": "stream",
     "text": [
      "0          0\n",
      "1          0\n",
      "2          0\n",
      "3          0\n",
      "4          0\n",
      "          ..\n",
      "1599995    2\n",
      "1599996    2\n",
      "1599997    2\n",
      "1599998    2\n",
      "1599999    2\n",
      "Name: target, Length: 1600000, dtype: int64\n"
     ]
    }
   ],
   "source": [
    "print(twitter_data['target'])"
   ]
  },
  {
   "cell_type": "code",
   "execution_count": 20,
   "metadata": {
    "ExecuteTime": {
     "end_time": "2024-06-09T14:09:47.498835300Z",
     "start_time": "2024-06-09T14:09:47.496021100Z"
    },
    "execution": {
     "iopub.execute_input": "2024-02-09T07:47:27.448979Z",
     "iopub.status.busy": "2024-02-09T07:47:27.448475Z",
     "iopub.status.idle": "2024-02-09T07:47:27.456216Z",
     "shell.execute_reply": "2024-02-09T07:47:27.454537Z",
     "shell.execute_reply.started": "2024-02-09T07:47:27.448942Z"
    }
   },
   "outputs": [],
   "source": [
    "#seperation\n",
    "X = twitter_data['stemmed_content'].values\n",
    "Y = twitter_data['target'].values"
   ]
  },
  {
   "cell_type": "code",
   "execution_count": 21,
   "metadata": {
    "ExecuteTime": {
     "end_time": "2024-06-09T14:09:48.479507700Z",
     "start_time": "2024-06-09T14:09:48.463607400Z"
    },
    "execution": {
     "iopub.execute_input": "2024-02-09T07:47:29.86333Z",
     "iopub.status.busy": "2024-02-09T07:47:29.862923Z",
     "iopub.status.idle": "2024-02-09T07:47:29.872693Z",
     "shell.execute_reply": "2024-02-09T07:47:29.871028Z",
     "shell.execute_reply.started": "2024-02-09T07:47:29.863298Z"
    }
   },
   "outputs": [
    {
     "name": "stdout",
     "output_type": "stream",
     "text": [
      "['switchfoot http twitpic com zl awww bummer shoulda got david carr third day'\n",
      " 'upset updat facebook text might cri result school today also blah'\n",
      " 'kenichan dive mani time ball manag save rest go bound' ...\n",
      " 'readi mojo makeov ask detail'\n",
      " 'happi th birthday boo alll time tupac amaru shakur'\n",
      " 'happi charitytuesday thenspcc sparkschar speakinguph h']\n"
     ]
    }
   ],
   "source": [
    "print(X)"
   ]
  },
  {
   "cell_type": "code",
   "execution_count": 22,
   "metadata": {
    "ExecuteTime": {
     "end_time": "2024-06-09T14:09:49.282542400Z",
     "start_time": "2024-06-09T14:09:49.279002100Z"
    },
    "execution": {
     "iopub.execute_input": "2024-02-09T07:47:32.188506Z",
     "iopub.status.busy": "2024-02-09T07:47:32.188016Z",
     "iopub.status.idle": "2024-02-09T07:47:32.196514Z",
     "shell.execute_reply": "2024-02-09T07:47:32.194885Z",
     "shell.execute_reply.started": "2024-02-09T07:47:32.18847Z"
    }
   },
   "outputs": [
    {
     "name": "stdout",
     "output_type": "stream",
     "text": [
      "[0 0 0 ... 2 2 2]\n"
     ]
    }
   ],
   "source": [
    "print(Y)"
   ]
  },
  {
   "cell_type": "code",
   "execution_count": 26,
   "metadata": {
    "ExecuteTime": {
     "end_time": "2024-06-09T14:09:51.165734Z",
     "start_time": "2024-06-09T14:09:50.207630800Z"
    },
    "execution": {
     "iopub.execute_input": "2024-02-09T07:47:33.963926Z",
     "iopub.status.busy": "2024-02-09T07:47:33.963469Z",
     "iopub.status.idle": "2024-02-09T07:47:35.08311Z",
     "shell.execute_reply": "2024-02-09T07:47:35.081597Z",
     "shell.execute_reply.started": "2024-02-09T07:47:33.963893Z"
    }
   },
   "outputs": [
    {
     "ename": "AttributeError",
     "evalue": "'function' object has no attribute 'Sequential'",
     "output_type": "error",
     "traceback": [
      "\u001B[1;31m---------------------------------------------------------------------------\u001B[0m",
      "\u001B[1;31mAttributeError\u001B[0m                            Traceback (most recent call last)",
      "Cell \u001B[1;32mIn[26], line 35\u001B[0m\n\u001B[0;32m     32\u001B[0m X_train, X_test, Y_train, Y_test \u001B[38;5;241m=\u001B[39m train_test_split(X, Y, test_size\u001B[38;5;241m=\u001B[39m\u001B[38;5;241m0.9\u001B[39m, stratify\u001B[38;5;241m=\u001B[39mY, random_state\u001B[38;5;241m=\u001B[39m\u001B[38;5;241m42\u001B[39m)\n\u001B[0;32m     34\u001B[0m \u001B[38;5;66;03m# Define a simple neural network model\u001B[39;00m\n\u001B[1;32m---> 35\u001B[0m model \u001B[38;5;241m=\u001B[39m \u001B[43mtf\u001B[49m\u001B[38;5;241;43m.\u001B[39;49m\u001B[43mkeras\u001B[49m\u001B[38;5;241;43m.\u001B[39;49m\u001B[43mSequential\u001B[49m([\n\u001B[0;32m     36\u001B[0m     tf\u001B[38;5;241m.\u001B[39mkeras\u001B[38;5;241m.\u001B[39mlayers\u001B[38;5;241m.\u001B[39mDense(\u001B[38;5;241m128\u001B[39m, activation\u001B[38;5;241m=\u001B[39m\u001B[38;5;124m'\u001B[39m\u001B[38;5;124mrelu\u001B[39m\u001B[38;5;124m'\u001B[39m, input_shape\u001B[38;5;241m=\u001B[39m(X_train\u001B[38;5;241m.\u001B[39mshape[\u001B[38;5;241m1\u001B[39m],)),\n\u001B[0;32m     37\u001B[0m     tf\u001B[38;5;241m.\u001B[39mkeras\u001B[38;5;241m.\u001B[39mlayers\u001B[38;5;241m.\u001B[39mDense(\u001B[38;5;241m64\u001B[39m, activation\u001B[38;5;241m=\u001B[39m\u001B[38;5;124m'\u001B[39m\u001B[38;5;124mrelu\u001B[39m\u001B[38;5;124m'\u001B[39m),\n\u001B[0;32m     38\u001B[0m     tf\u001B[38;5;241m.\u001B[39mkeras\u001B[38;5;241m.\u001B[39mlayers\u001B[38;5;241m.\u001B[39mDense(\u001B[38;5;241m1\u001B[39m, activation\u001B[38;5;241m=\u001B[39m\u001B[38;5;124m'\u001B[39m\u001B[38;5;124msigmoid\u001B[39m\u001B[38;5;124m'\u001B[39m)\n\u001B[0;32m     39\u001B[0m ])\n\u001B[0;32m     41\u001B[0m \u001B[38;5;66;03m# Compile the model\u001B[39;00m\n\u001B[0;32m     42\u001B[0m model\u001B[38;5;241m.\u001B[39mcompile(optimizer\u001B[38;5;241m=\u001B[39m\u001B[38;5;124m'\u001B[39m\u001B[38;5;124madam\u001B[39m\u001B[38;5;124m'\u001B[39m, loss\u001B[38;5;241m=\u001B[39m\u001B[38;5;124m'\u001B[39m\u001B[38;5;124mbinary_crossentropy\u001B[39m\u001B[38;5;124m'\u001B[39m, metrics\u001B[38;5;241m=\u001B[39m[\u001B[38;5;124m'\u001B[39m\u001B[38;5;124maccuracy\u001B[39m\u001B[38;5;124m'\u001B[39m])\n",
      "\u001B[1;31mAttributeError\u001B[0m: 'function' object has no attribute 'Sequential'"
     ]
    }
   ],
   "source": [
    "#Spitting data to training and test data\n",
    "X_train, X_test, Y_train, Y_test = train_test_split(X, Y, test_size=0.9, stratify=Y, random_state=42)"
   ]
  },
  {
   "cell_type": "code",
   "execution_count": 20,
   "metadata": {
    "ExecuteTime": {
     "end_time": "2024-06-09T14:09:51.750201800Z",
     "start_time": "2024-06-09T14:09:51.743683100Z"
    },
    "execution": {
     "iopub.execute_input": "2024-02-09T07:47:36.378659Z",
     "iopub.status.busy": "2024-02-09T07:47:36.378236Z",
     "iopub.status.idle": "2024-02-09T07:47:36.385285Z",
     "shell.execute_reply": "2024-02-09T07:47:36.383953Z",
     "shell.execute_reply.started": "2024-02-09T07:47:36.378627Z"
    }
   },
   "outputs": [
    {
     "name": "stdout",
     "output_type": "stream",
     "text": [
      "(1600000,) (160000,) (1440000,)\n"
     ]
    }
   ],
   "source": [
    "print(X.shape, X_train.shape, X_test.shape)"
   ]
  },
  {
   "cell_type": "code",
   "execution_count": 21,
   "metadata": {
    "ExecuteTime": {
     "end_time": "2024-06-09T14:09:52.695686400Z",
     "start_time": "2024-06-09T14:09:52.663961900Z"
    },
    "execution": {
     "iopub.execute_input": "2024-02-09T07:47:37.903667Z",
     "iopub.status.busy": "2024-02-09T07:47:37.90323Z",
     "iopub.status.idle": "2024-02-09T07:47:37.911193Z",
     "shell.execute_reply": "2024-02-09T07:47:37.90933Z",
     "shell.execute_reply.started": "2024-02-09T07:47:37.903636Z"
    }
   },
   "outputs": [
    {
     "name": "stdout",
     "output_type": "stream",
     "text": [
      "['forev sickest kid soooooooo ace thank lord given someon jesu obv talk'\n",
      " 'bike race prepar begin' 'bore mind shoolay' ... 'drown nake reveng'\n",
      " 'fix practic' 'strwbrri sweet right bore']\n"
     ]
    }
   ],
   "source": [
    "print(X_train)"
   ]
  },
  {
   "cell_type": "code",
   "execution_count": 22,
   "metadata": {
    "ExecuteTime": {
     "end_time": "2024-06-09T14:09:53.840465800Z",
     "start_time": "2024-06-09T14:09:53.808691300Z"
    },
    "execution": {
     "iopub.execute_input": "2024-02-09T07:47:39.234182Z",
     "iopub.status.busy": "2024-02-09T07:47:39.233359Z",
     "iopub.status.idle": "2024-02-09T07:47:39.24088Z",
     "shell.execute_reply": "2024-02-09T07:47:39.239666Z",
     "shell.execute_reply.started": "2024-02-09T07:47:39.234127Z"
    }
   },
   "outputs": [
    {
     "name": "stdout",
     "output_type": "stream",
     "text": [
      "['poprock http twitpic com wxx hehe love'\n",
      " 'bmk yup got tru today play young kid amp initi enthusiast worth'\n",
      " 'garydzen hey gari guess im boston appl store boyleston st use imac lol b b day'\n",
      " ...\n",
      " 'sorri updat twitter much use ive busi crappi summer program like said'\n",
      " 'p venceram ok menina eu fiz um twitter'\n",
      " 'brianjshoopman thank boat tri finish new collect probabl start new book']\n"
     ]
    }
   ],
   "source": [
    "print(X_test)"
   ]
  },
  {
   "cell_type": "code",
   "execution_count": 23,
   "metadata": {
    "ExecuteTime": {
     "end_time": "2024-06-09T14:10:06.553527600Z",
     "start_time": "2024-06-09T14:09:55.457815Z"
    },
    "execution": {
     "iopub.execute_input": "2024-02-09T07:47:40.998661Z",
     "iopub.status.busy": "2024-02-09T07:47:40.9982Z",
     "iopub.status.idle": "2024-02-09T07:48:10.327735Z",
     "shell.execute_reply": "2024-02-09T07:48:10.326397Z",
     "shell.execute_reply.started": "2024-02-09T07:47:40.998626Z"
    }
   },
   "outputs": [],
   "source": [
    "#feature_extraction(text data to numeric data)\n",
    "\n",
    "vectorizer = TfidfVectorizer()\n",
    "\n",
    "X_train = vectorizer.fit_transform(X_train)\n",
    "X_test = vectorizer.transform(X_test)\n"
   ]
  },
  {
   "cell_type": "code",
   "execution_count": 25,
   "metadata": {
    "ExecuteTime": {
     "end_time": "2024-06-09T14:14:17.915681Z",
     "start_time": "2024-06-09T14:14:17.868116500Z"
    },
    "execution": {
     "iopub.execute_input": "2024-02-09T07:48:38.013678Z",
     "iopub.status.busy": "2024-02-09T07:48:38.013207Z",
     "iopub.status.idle": "2024-02-09T07:48:38.253096Z",
     "shell.execute_reply": "2024-02-09T07:48:38.251605Z",
     "shell.execute_reply.started": "2024-02-09T07:48:38.013647Z"
    }
   },
   "outputs": [
    {
     "name": "stdout",
     "output_type": "stream",
     "text": [
      "  (0, 94009)\t0.20370929620786396\n",
      "  (0, 70388)\t0.3544012848051066\n",
      "  (0, 46987)\t0.3129327044292223\n",
      "  (0, 89356)\t0.2104751975856882\n",
      "  (0, 35742)\t0.2994444735700369\n",
      "  (0, 57128)\t0.30237078903374537\n",
      "  (0, 95545)\t0.1556047217547542\n",
      "  (0, 609)\t0.3209273685601872\n",
      "  (0, 89541)\t0.3398745044564973\n",
      "  (0, 51463)\t0.22215681187939518\n",
      "  (0, 87226)\t0.3826497004127957\n",
      "  (0, 32759)\t0.266616114406142\n",
      "  (1, 8818)\t0.4977238244710102\n",
      "  (1, 76507)\t0.5090296167638134\n",
      "  (1, 78295)\t0.5041352535473768\n",
      "  (1, 9902)\t0.4888839227689517\n",
      "  (2, 86821)\t0.8144981931423584\n",
      "  (2, 63128)\t0.4418896099701409\n",
      "  (2, 11574)\t0.37593385850209077\n",
      "  (3, 32334)\t0.3045039976240275\n",
      "  (3, 93499)\t0.3364346378617668\n",
      "  (3, 93689)\t0.4066725454046163\n",
      "  (3, 69639)\t0.32170493240384396\n",
      "  (3, 92052)\t0.4167954364831894\n",
      "  (3, 627)\t0.3112244868734948\n",
      "  :\t:\n",
      "  (159995, 89513)\t0.2522319999921946\n",
      "  (159995, 27195)\t0.260390334682612\n",
      "  (159996, 31552)\t0.363836665707508\n",
      "  (159996, 97962)\t0.3488013123027023\n",
      "  (159996, 61948)\t0.3006860770118536\n",
      "  (159996, 75373)\t0.2632556537178194\n",
      "  (159996, 102013)\t0.27554431588934336\n",
      "  (159996, 58966)\t0.2649546299451821\n",
      "  (159996, 101124)\t0.319489294015982\n",
      "  (159996, 77347)\t0.24381534861290266\n",
      "  (159996, 14723)\t0.3386140199234285\n",
      "  (159996, 20918)\t0.26437822035767744\n",
      "  (159996, 66237)\t0.19725589831839005\n",
      "  (159996, 36572)\t0.13717033276330176\n",
      "  (159996, 79375)\t0.14448589483545882\n",
      "  (159996, 36322)\t0.12426925860732628\n",
      "  (159997, 26397)\t0.5813851433403614\n",
      "  (159997, 67026)\t0.5464657896188813\n",
      "  (159997, 80520)\t0.6027988519226958\n",
      "  (159998, 76329)\t0.7456328296408103\n",
      "  (159998, 31988)\t0.6663570239457511\n",
      "  (159999, 91971)\t0.7771109256092714\n",
      "  (159999, 93361)\t0.4043945873405007\n",
      "  (159999, 80975)\t0.3223568842391347\n",
      "  (159999, 11574)\t0.3586776633860056\n"
     ]
    }
   ],
   "source": [
    "print(X_train)"
   ]
  },
  {
   "cell_type": "code",
   "execution_count": 26,
   "metadata": {
    "ExecuteTime": {
     "end_time": "2024-06-09T14:14:24.627346900Z",
     "start_time": "2024-06-09T14:14:23.639348100Z"
    },
    "execution": {
     "iopub.execute_input": "2024-02-09T07:48:42.288566Z",
     "iopub.status.busy": "2024-02-09T07:48:42.288114Z",
     "iopub.status.idle": "2024-02-09T07:48:42.322124Z",
     "shell.execute_reply": "2024-02-09T07:48:42.320937Z",
     "shell.execute_reply.started": "2024-02-09T07:48:42.288533Z"
    }
   },
   "outputs": [
    {
     "name": "stdout",
     "output_type": "stream",
     "text": [
      "  (0, 100451)\t0.32105864263878936\n",
      "  (0, 75992)\t0.7367795815921643\n",
      "  (0, 57386)\t0.2408956925025383\n",
      "  (0, 41403)\t0.2476377147741085\n",
      "  (0, 39359)\t0.4048133369288649\n",
      "  (0, 18873)\t0.26617322542943833\n",
      "  (1, 109208)\t0.3071701947440656\n",
      "  (1, 108899)\t0.3203130709472611\n",
      "  (1, 106633)\t0.2915020348948641\n",
      "  (1, 99565)\t0.41325431038147953\n",
      "  (1, 98064)\t0.1685403997979867\n",
      "  (1, 75360)\t0.2191282350641537\n",
      "  (1, 51463)\t0.2509693339796077\n",
      "  (1, 43522)\t0.390604380356134\n",
      "  (1, 36572)\t0.17355002051049567\n",
      "  (1, 28907)\t0.43654164054998135\n",
      "  (1, 3483)\t0.18607738920482222\n",
      "  (2, 102034)\t0.2309567146261468\n",
      "  (2, 91703)\t0.2994227724439584\n",
      "  (2, 90724)\t0.2810866737777732\n",
      "  (2, 56806)\t0.18243772833969493\n",
      "  (2, 42897)\t0.4118772530492376\n",
      "  (2, 42895)\t0.18889090542559872\n",
      "  (2, 39831)\t0.22817345000653114\n",
      "  (2, 37499)\t0.24867887153443674\n",
      "  :\t:\n",
      "  (1439997, 101834)\t0.29061637675998786\n",
      "  (1439997, 100482)\t0.22589284716933938\n",
      "  (1439997, 92513)\t0.2761221678044185\n",
      "  (1439997, 89651)\t0.24033461658301006\n",
      "  (1439997, 83104)\t0.2889584087752605\n",
      "  (1439997, 76926)\t0.3858524377487023\n",
      "  (1439997, 65961)\t0.22397999986411118\n",
      "  (1439997, 55642)\t0.1874749829308911\n",
      "  (1439997, 44665)\t0.3366177651484625\n",
      "  (1439997, 20171)\t0.3798363635216827\n",
      "  (1439997, 13589)\t0.2977199863826654\n",
      "  (1439998, 101227)\t0.440808443633555\n",
      "  (1439998, 100482)\t0.2561439460351921\n",
      "  (1439998, 70930)\t0.30150552119655694\n",
      "  (1439998, 32003)\t0.6540865488703926\n",
      "  (1439998, 29648)\t0.47047146800384787\n",
      "  (1439999, 99260)\t0.24723386723570578\n",
      "  (1439999, 95545)\t0.21210493449700685\n",
      "  (1439999, 90965)\t0.25914862997154614\n",
      "  (1439999, 76839)\t0.3181051041251406\n",
      "  (1439999, 68133)\t0.4553033537570287\n",
      "  (1439999, 31788)\t0.28709916049502976\n",
      "  (1439999, 18786)\t0.4148312128043327\n",
      "  (1439999, 11394)\t0.3070412799192079\n",
      "  (1439999, 11072)\t0.41164509881281725\n"
     ]
    }
   ],
   "source": [
    "print(X_test)"
   ]
  },
  {
   "cell_type": "code",
   "execution_count": 27,
   "metadata": {
    "ExecuteTime": {
     "end_time": "2024-06-09T14:16:52.820362200Z",
     "start_time": "2024-06-09T14:14:25.227253300Z"
    }
   },
   "outputs": [
    {
     "data": {
      "text/html": [
       "<style>#sk-container-id-1 {\n",
       "  /* Definition of color scheme common for light and dark mode */\n",
       "  --sklearn-color-text: black;\n",
       "  --sklearn-color-line: gray;\n",
       "  /* Definition of color scheme for unfitted estimators */\n",
       "  --sklearn-color-unfitted-level-0: #fff5e6;\n",
       "  --sklearn-color-unfitted-level-1: #f6e4d2;\n",
       "  --sklearn-color-unfitted-level-2: #ffe0b3;\n",
       "  --sklearn-color-unfitted-level-3: chocolate;\n",
       "  /* Definition of color scheme for fitted estimators */\n",
       "  --sklearn-color-fitted-level-0: #f0f8ff;\n",
       "  --sklearn-color-fitted-level-1: #d4ebff;\n",
       "  --sklearn-color-fitted-level-2: #b3dbfd;\n",
       "  --sklearn-color-fitted-level-3: cornflowerblue;\n",
       "\n",
       "  /* Specific color for light theme */\n",
       "  --sklearn-color-text-on-default-background: var(--sg-text-color, var(--theme-code-foreground, var(--jp-content-font-color1, black)));\n",
       "  --sklearn-color-background: var(--sg-background-color, var(--theme-background, var(--jp-layout-color0, white)));\n",
       "  --sklearn-color-border-box: var(--sg-text-color, var(--theme-code-foreground, var(--jp-content-font-color1, black)));\n",
       "  --sklearn-color-icon: #696969;\n",
       "\n",
       "  @media (prefers-color-scheme: dark) {\n",
       "    /* Redefinition of color scheme for dark theme */\n",
       "    --sklearn-color-text-on-default-background: var(--sg-text-color, var(--theme-code-foreground, var(--jp-content-font-color1, white)));\n",
       "    --sklearn-color-background: var(--sg-background-color, var(--theme-background, var(--jp-layout-color0, #111)));\n",
       "    --sklearn-color-border-box: var(--sg-text-color, var(--theme-code-foreground, var(--jp-content-font-color1, white)));\n",
       "    --sklearn-color-icon: #878787;\n",
       "  }\n",
       "}\n",
       "\n",
       "#sk-container-id-1 {\n",
       "  color: var(--sklearn-color-text);\n",
       "}\n",
       "\n",
       "#sk-container-id-1 pre {\n",
       "  padding: 0;\n",
       "}\n",
       "\n",
       "#sk-container-id-1 input.sk-hidden--visually {\n",
       "  border: 0;\n",
       "  clip: rect(1px 1px 1px 1px);\n",
       "  clip: rect(1px, 1px, 1px, 1px);\n",
       "  height: 1px;\n",
       "  margin: -1px;\n",
       "  overflow: hidden;\n",
       "  padding: 0;\n",
       "  position: absolute;\n",
       "  width: 1px;\n",
       "}\n",
       "\n",
       "#sk-container-id-1 div.sk-dashed-wrapped {\n",
       "  border: 1px dashed var(--sklearn-color-line);\n",
       "  margin: 0 0.4em 0.5em 0.4em;\n",
       "  box-sizing: border-box;\n",
       "  padding-bottom: 0.4em;\n",
       "  background-color: var(--sklearn-color-background);\n",
       "}\n",
       "\n",
       "#sk-container-id-1 div.sk-container {\n",
       "  /* jupyter's `normalize.less` sets `[hidden] { display: none; }`\n",
       "     but bootstrap.min.css set `[hidden] { display: none !important; }`\n",
       "     so we also need the `!important` here to be able to override the\n",
       "     default hidden behavior on the sphinx rendered scikit-learn.org.\n",
       "     See: https://github.com/scikit-learn/scikit-learn/issues/21755 */\n",
       "  display: inline-block !important;\n",
       "  position: relative;\n",
       "}\n",
       "\n",
       "#sk-container-id-1 div.sk-text-repr-fallback {\n",
       "  display: none;\n",
       "}\n",
       "\n",
       "div.sk-parallel-item,\n",
       "div.sk-serial,\n",
       "div.sk-item {\n",
       "  /* draw centered vertical line to link estimators */\n",
       "  background-image: linear-gradient(var(--sklearn-color-text-on-default-background), var(--sklearn-color-text-on-default-background));\n",
       "  background-size: 2px 100%;\n",
       "  background-repeat: no-repeat;\n",
       "  background-position: center center;\n",
       "}\n",
       "\n",
       "/* Parallel-specific style estimator block */\n",
       "\n",
       "#sk-container-id-1 div.sk-parallel-item::after {\n",
       "  content: \"\";\n",
       "  width: 100%;\n",
       "  border-bottom: 2px solid var(--sklearn-color-text-on-default-background);\n",
       "  flex-grow: 1;\n",
       "}\n",
       "\n",
       "#sk-container-id-1 div.sk-parallel {\n",
       "  display: flex;\n",
       "  align-items: stretch;\n",
       "  justify-content: center;\n",
       "  background-color: var(--sklearn-color-background);\n",
       "  position: relative;\n",
       "}\n",
       "\n",
       "#sk-container-id-1 div.sk-parallel-item {\n",
       "  display: flex;\n",
       "  flex-direction: column;\n",
       "}\n",
       "\n",
       "#sk-container-id-1 div.sk-parallel-item:first-child::after {\n",
       "  align-self: flex-end;\n",
       "  width: 50%;\n",
       "}\n",
       "\n",
       "#sk-container-id-1 div.sk-parallel-item:last-child::after {\n",
       "  align-self: flex-start;\n",
       "  width: 50%;\n",
       "}\n",
       "\n",
       "#sk-container-id-1 div.sk-parallel-item:only-child::after {\n",
       "  width: 0;\n",
       "}\n",
       "\n",
       "/* Serial-specific style estimator block */\n",
       "\n",
       "#sk-container-id-1 div.sk-serial {\n",
       "  display: flex;\n",
       "  flex-direction: column;\n",
       "  align-items: center;\n",
       "  background-color: var(--sklearn-color-background);\n",
       "  padding-right: 1em;\n",
       "  padding-left: 1em;\n",
       "}\n",
       "\n",
       "\n",
       "/* Toggleable style: style used for estimator/Pipeline/ColumnTransformer box that is\n",
       "clickable and can be expanded/collapsed.\n",
       "- Pipeline and ColumnTransformer use this feature and define the default style\n",
       "- Estimators will overwrite some part of the style using the `sk-estimator` class\n",
       "*/\n",
       "\n",
       "/* Pipeline and ColumnTransformer style (default) */\n",
       "\n",
       "#sk-container-id-1 div.sk-toggleable {\n",
       "  /* Default theme specific background. It is overwritten whether we have a\n",
       "  specific estimator or a Pipeline/ColumnTransformer */\n",
       "  background-color: var(--sklearn-color-background);\n",
       "}\n",
       "\n",
       "/* Toggleable label */\n",
       "#sk-container-id-1 label.sk-toggleable__label {\n",
       "  cursor: pointer;\n",
       "  display: block;\n",
       "  width: 100%;\n",
       "  margin-bottom: 0;\n",
       "  padding: 0.5em;\n",
       "  box-sizing: border-box;\n",
       "  text-align: center;\n",
       "}\n",
       "\n",
       "#sk-container-id-1 label.sk-toggleable__label-arrow:before {\n",
       "  /* Arrow on the left of the label */\n",
       "  content: \"▸\";\n",
       "  float: left;\n",
       "  margin-right: 0.25em;\n",
       "  color: var(--sklearn-color-icon);\n",
       "}\n",
       "\n",
       "#sk-container-id-1 label.sk-toggleable__label-arrow:hover:before {\n",
       "  color: var(--sklearn-color-text);\n",
       "}\n",
       "\n",
       "/* Toggleable content - dropdown */\n",
       "\n",
       "#sk-container-id-1 div.sk-toggleable__content {\n",
       "  max-height: 0;\n",
       "  max-width: 0;\n",
       "  overflow: hidden;\n",
       "  text-align: left;\n",
       "  /* unfitted */\n",
       "  background-color: var(--sklearn-color-unfitted-level-0);\n",
       "}\n",
       "\n",
       "#sk-container-id-1 div.sk-toggleable__content.fitted {\n",
       "  /* fitted */\n",
       "  background-color: var(--sklearn-color-fitted-level-0);\n",
       "}\n",
       "\n",
       "#sk-container-id-1 div.sk-toggleable__content pre {\n",
       "  margin: 0.2em;\n",
       "  border-radius: 0.25em;\n",
       "  color: var(--sklearn-color-text);\n",
       "  /* unfitted */\n",
       "  background-color: var(--sklearn-color-unfitted-level-0);\n",
       "}\n",
       "\n",
       "#sk-container-id-1 div.sk-toggleable__content.fitted pre {\n",
       "  /* unfitted */\n",
       "  background-color: var(--sklearn-color-fitted-level-0);\n",
       "}\n",
       "\n",
       "#sk-container-id-1 input.sk-toggleable__control:checked~div.sk-toggleable__content {\n",
       "  /* Expand drop-down */\n",
       "  max-height: 200px;\n",
       "  max-width: 100%;\n",
       "  overflow: auto;\n",
       "}\n",
       "\n",
       "#sk-container-id-1 input.sk-toggleable__control:checked~label.sk-toggleable__label-arrow:before {\n",
       "  content: \"▾\";\n",
       "}\n",
       "\n",
       "/* Pipeline/ColumnTransformer-specific style */\n",
       "\n",
       "#sk-container-id-1 div.sk-label input.sk-toggleable__control:checked~label.sk-toggleable__label {\n",
       "  color: var(--sklearn-color-text);\n",
       "  background-color: var(--sklearn-color-unfitted-level-2);\n",
       "}\n",
       "\n",
       "#sk-container-id-1 div.sk-label.fitted input.sk-toggleable__control:checked~label.sk-toggleable__label {\n",
       "  background-color: var(--sklearn-color-fitted-level-2);\n",
       "}\n",
       "\n",
       "/* Estimator-specific style */\n",
       "\n",
       "/* Colorize estimator box */\n",
       "#sk-container-id-1 div.sk-estimator input.sk-toggleable__control:checked~label.sk-toggleable__label {\n",
       "  /* unfitted */\n",
       "  background-color: var(--sklearn-color-unfitted-level-2);\n",
       "}\n",
       "\n",
       "#sk-container-id-1 div.sk-estimator.fitted input.sk-toggleable__control:checked~label.sk-toggleable__label {\n",
       "  /* fitted */\n",
       "  background-color: var(--sklearn-color-fitted-level-2);\n",
       "}\n",
       "\n",
       "#sk-container-id-1 div.sk-label label.sk-toggleable__label,\n",
       "#sk-container-id-1 div.sk-label label {\n",
       "  /* The background is the default theme color */\n",
       "  color: var(--sklearn-color-text-on-default-background);\n",
       "}\n",
       "\n",
       "/* On hover, darken the color of the background */\n",
       "#sk-container-id-1 div.sk-label:hover label.sk-toggleable__label {\n",
       "  color: var(--sklearn-color-text);\n",
       "  background-color: var(--sklearn-color-unfitted-level-2);\n",
       "}\n",
       "\n",
       "/* Label box, darken color on hover, fitted */\n",
       "#sk-container-id-1 div.sk-label.fitted:hover label.sk-toggleable__label.fitted {\n",
       "  color: var(--sklearn-color-text);\n",
       "  background-color: var(--sklearn-color-fitted-level-2);\n",
       "}\n",
       "\n",
       "/* Estimator label */\n",
       "\n",
       "#sk-container-id-1 div.sk-label label {\n",
       "  font-family: monospace;\n",
       "  font-weight: bold;\n",
       "  display: inline-block;\n",
       "  line-height: 1.2em;\n",
       "}\n",
       "\n",
       "#sk-container-id-1 div.sk-label-container {\n",
       "  text-align: center;\n",
       "}\n",
       "\n",
       "/* Estimator-specific */\n",
       "#sk-container-id-1 div.sk-estimator {\n",
       "  font-family: monospace;\n",
       "  border: 1px dotted var(--sklearn-color-border-box);\n",
       "  border-radius: 0.25em;\n",
       "  box-sizing: border-box;\n",
       "  margin-bottom: 0.5em;\n",
       "  /* unfitted */\n",
       "  background-color: var(--sklearn-color-unfitted-level-0);\n",
       "}\n",
       "\n",
       "#sk-container-id-1 div.sk-estimator.fitted {\n",
       "  /* fitted */\n",
       "  background-color: var(--sklearn-color-fitted-level-0);\n",
       "}\n",
       "\n",
       "/* on hover */\n",
       "#sk-container-id-1 div.sk-estimator:hover {\n",
       "  /* unfitted */\n",
       "  background-color: var(--sklearn-color-unfitted-level-2);\n",
       "}\n",
       "\n",
       "#sk-container-id-1 div.sk-estimator.fitted:hover {\n",
       "  /* fitted */\n",
       "  background-color: var(--sklearn-color-fitted-level-2);\n",
       "}\n",
       "\n",
       "/* Specification for estimator info (e.g. \"i\" and \"?\") */\n",
       "\n",
       "/* Common style for \"i\" and \"?\" */\n",
       "\n",
       ".sk-estimator-doc-link,\n",
       "a:link.sk-estimator-doc-link,\n",
       "a:visited.sk-estimator-doc-link {\n",
       "  float: right;\n",
       "  font-size: smaller;\n",
       "  line-height: 1em;\n",
       "  font-family: monospace;\n",
       "  background-color: var(--sklearn-color-background);\n",
       "  border-radius: 1em;\n",
       "  height: 1em;\n",
       "  width: 1em;\n",
       "  text-decoration: none !important;\n",
       "  margin-left: 1ex;\n",
       "  /* unfitted */\n",
       "  border: var(--sklearn-color-unfitted-level-1) 1pt solid;\n",
       "  color: var(--sklearn-color-unfitted-level-1);\n",
       "}\n",
       "\n",
       ".sk-estimator-doc-link.fitted,\n",
       "a:link.sk-estimator-doc-link.fitted,\n",
       "a:visited.sk-estimator-doc-link.fitted {\n",
       "  /* fitted */\n",
       "  border: var(--sklearn-color-fitted-level-1) 1pt solid;\n",
       "  color: var(--sklearn-color-fitted-level-1);\n",
       "}\n",
       "\n",
       "/* On hover */\n",
       "div.sk-estimator:hover .sk-estimator-doc-link:hover,\n",
       ".sk-estimator-doc-link:hover,\n",
       "div.sk-label-container:hover .sk-estimator-doc-link:hover,\n",
       ".sk-estimator-doc-link:hover {\n",
       "  /* unfitted */\n",
       "  background-color: var(--sklearn-color-unfitted-level-3);\n",
       "  color: var(--sklearn-color-background);\n",
       "  text-decoration: none;\n",
       "}\n",
       "\n",
       "div.sk-estimator.fitted:hover .sk-estimator-doc-link.fitted:hover,\n",
       ".sk-estimator-doc-link.fitted:hover,\n",
       "div.sk-label-container:hover .sk-estimator-doc-link.fitted:hover,\n",
       ".sk-estimator-doc-link.fitted:hover {\n",
       "  /* fitted */\n",
       "  background-color: var(--sklearn-color-fitted-level-3);\n",
       "  color: var(--sklearn-color-background);\n",
       "  text-decoration: none;\n",
       "}\n",
       "\n",
       "/* Span, style for the box shown on hovering the info icon */\n",
       ".sk-estimator-doc-link span {\n",
       "  display: none;\n",
       "  z-index: 9999;\n",
       "  position: relative;\n",
       "  font-weight: normal;\n",
       "  right: .2ex;\n",
       "  padding: .5ex;\n",
       "  margin: .5ex;\n",
       "  width: min-content;\n",
       "  min-width: 20ex;\n",
       "  max-width: 50ex;\n",
       "  color: var(--sklearn-color-text);\n",
       "  box-shadow: 2pt 2pt 4pt #999;\n",
       "  /* unfitted */\n",
       "  background: var(--sklearn-color-unfitted-level-0);\n",
       "  border: .5pt solid var(--sklearn-color-unfitted-level-3);\n",
       "}\n",
       "\n",
       ".sk-estimator-doc-link.fitted span {\n",
       "  /* fitted */\n",
       "  background: var(--sklearn-color-fitted-level-0);\n",
       "  border: var(--sklearn-color-fitted-level-3);\n",
       "}\n",
       "\n",
       ".sk-estimator-doc-link:hover span {\n",
       "  display: block;\n",
       "}\n",
       "\n",
       "/* \"?\"-specific style due to the `<a>` HTML tag */\n",
       "\n",
       "#sk-container-id-1 a.estimator_doc_link {\n",
       "  float: right;\n",
       "  font-size: 1rem;\n",
       "  line-height: 1em;\n",
       "  font-family: monospace;\n",
       "  background-color: var(--sklearn-color-background);\n",
       "  border-radius: 1rem;\n",
       "  height: 1rem;\n",
       "  width: 1rem;\n",
       "  text-decoration: none;\n",
       "  /* unfitted */\n",
       "  color: var(--sklearn-color-unfitted-level-1);\n",
       "  border: var(--sklearn-color-unfitted-level-1) 1pt solid;\n",
       "}\n",
       "\n",
       "#sk-container-id-1 a.estimator_doc_link.fitted {\n",
       "  /* fitted */\n",
       "  border: var(--sklearn-color-fitted-level-1) 1pt solid;\n",
       "  color: var(--sklearn-color-fitted-level-1);\n",
       "}\n",
       "\n",
       "/* On hover */\n",
       "#sk-container-id-1 a.estimator_doc_link:hover {\n",
       "  /* unfitted */\n",
       "  background-color: var(--sklearn-color-unfitted-level-3);\n",
       "  color: var(--sklearn-color-background);\n",
       "  text-decoration: none;\n",
       "}\n",
       "\n",
       "#sk-container-id-1 a.estimator_doc_link.fitted:hover {\n",
       "  /* fitted */\n",
       "  background-color: var(--sklearn-color-fitted-level-3);\n",
       "}\n",
       "</style><div id=\"sk-container-id-1\" class=\"sk-top-container\"><div class=\"sk-text-repr-fallback\"><pre>DecisionTreeClassifier()</pre><b>In a Jupyter environment, please rerun this cell to show the HTML representation or trust the notebook. <br />On GitHub, the HTML representation is unable to render, please try loading this page with nbviewer.org.</b></div><div class=\"sk-container\" hidden><div class=\"sk-item\"><div class=\"sk-estimator fitted sk-toggleable\"><input class=\"sk-toggleable__control sk-hidden--visually\" id=\"sk-estimator-id-1\" type=\"checkbox\" checked><label for=\"sk-estimator-id-1\" class=\"sk-toggleable__label fitted sk-toggleable__label-arrow fitted\">&nbsp;&nbsp;DecisionTreeClassifier<a class=\"sk-estimator-doc-link fitted\" rel=\"noreferrer\" target=\"_blank\" href=\"https://scikit-learn.org/1.4/modules/generated/sklearn.tree.DecisionTreeClassifier.html\">?<span>Documentation for DecisionTreeClassifier</span></a><span class=\"sk-estimator-doc-link fitted\">i<span>Fitted</span></span></label><div class=\"sk-toggleable__content fitted\"><pre>DecisionTreeClassifier()</pre></div> </div></div></div></div>"
      ],
      "text/plain": [
       "DecisionTreeClassifier()"
      ]
     },
     "execution_count": 27,
     "metadata": {},
     "output_type": "execute_result"
    }
   ],
   "source": [
    "from sklearn.tree import DecisionTreeClassifier\n",
    "\n",
    "decision_tree_model = DecisionTreeClassifier()\n",
    "decision_tree_model.fit(X_train, Y_train)\n"
   ]
  },
  {
   "cell_type": "code",
   "execution_count": 49,
   "metadata": {
    "ExecuteTime": {
     "end_time": "2024-06-09T14:32:43.110883500Z",
     "start_time": "2024-06-09T14:32:40.267368100Z"
    }
   },
   "outputs": [
    {
     "name": "stdout",
     "output_type": "stream",
     "text": [
      "Accuracy score on training data (Decision Tree): 99.811875\n",
      "Accuracy score on test data (Decision Tree): 69.45395833333333\n"
     ]
    }
   ],
   "source": [
    "decision_tree_train_prediction = decision_tree_model.predict(X_train)\n",
    "decision_tree_training_data_accuracy = accuracy_score(Y_train, decision_tree_train_prediction)\n",
    "print('Accuracy score on training data (Decision Tree):', decision_tree_training_data_accuracy * 100)\n",
    "\n",
    "decision_tree_test_prediction = decision_tree_model.predict(X_test)\n",
    "decision_tree_test_data_accuracy = accuracy_score(Y_test, decision_tree_test_prediction)\n",
    "print('Accuracy score on test data (Decision Tree):', decision_tree_test_data_accuracy * 100)"
   ]
  },
  {
   "cell_type": "code",
   "execution_count": 30,
   "metadata": {
    "ExecuteTime": {
     "end_time": "2024-06-09T14:17:06.065108100Z",
     "start_time": "2024-06-09T14:17:06.062096600Z"
    }
   },
   "outputs": [
    {
     "name": "stdout",
     "output_type": "stream",
     "text": [
      "Overall accuracy: 84.63291666666667\n"
     ]
    }
   ],
   "source": [
    "# Overall accuracy\n",
    "overall_accuracy = (decision_tree_training_data_accuracy + decision_tree_test_data_accuracy) / 2\n",
    "print('Overall accuracy:', overall_accuracy * 100)"
   ]
  },
  {
   "cell_type": "code",
   "execution_count": 31,
   "metadata": {
    "collapsed": false,
    "is_executing": true
   },
   "outputs": [
    {
     "name": "stdout",
     "output_type": "stream",
     "text": [
      "Accuracy score on training data :  80.7225\n",
      "Accuracy score on test data :  76.58152777777778\n"
     ]
    }
   ],
   "source": [
    "# model = LogisticRegression()\n",
    "# model.fit(X_train, Y_train)\n",
    "#\n",
    "# X_train_prediction = model.predict(X_train)\n",
    "# training_data_accuracy = accuracy_score(Y_train, X_train_prediction)\n",
    "# print('Accuracy score on training data : ' , training_data_accuracy*100)\n",
    "#\n",
    "# X_test_prediction = model.predict(X_test)\n",
    "# test_data_accuracy = accuracy_score(Y_test, X_test_prediction)\n",
    "# print('Accuracy score on test data : ' , test_data_accuracy*100)"
   ]
  },
  {
   "cell_type": "markdown",
   "metadata": {},
   "source": [
    "SAVING TRAINED MODEL"
   ]
  },
  {
   "cell_type": "code",
   "execution_count": 31,
   "metadata": {
    "ExecuteTime": {
     "end_time": "2024-06-09T14:18:45.010085900Z",
     "start_time": "2024-06-09T14:18:45.008071400Z"
    },
    "execution": {
     "iopub.execute_input": "2024-02-09T07:51:37.263076Z",
     "iopub.status.busy": "2024-02-09T07:51:37.262592Z",
     "iopub.status.idle": "2024-02-09T07:51:37.268993Z",
     "shell.execute_reply": "2024-02-09T07:51:37.267239Z",
     "shell.execute_reply.started": "2024-02-09T07:51:37.263042Z"
    }
   },
   "outputs": [],
   "source": [
    "import pickle"
   ]
  },
  {
   "cell_type": "code",
   "execution_count": 32,
   "metadata": {
    "ExecuteTime": {
     "end_time": "2024-06-09T14:18:45.798946600Z",
     "start_time": "2024-06-09T14:18:45.778846200Z"
    },
    "execution": {
     "iopub.execute_input": "2024-02-09T07:51:39.72491Z",
     "iopub.status.busy": "2024-02-09T07:51:39.723559Z",
     "iopub.status.idle": "2024-02-09T07:51:39.738569Z",
     "shell.execute_reply": "2024-02-09T07:51:39.736831Z",
     "shell.execute_reply.started": "2024-02-09T07:51:39.724862Z"
    }
   },
   "outputs": [],
   "source": [
    "filename = 'trained_model.sav'\n",
    "pickle.dump(decision_tree_model, open(filename, 'wb'))"
   ]
  },
  {
   "cell_type": "code",
   "execution_count": 33,
   "metadata": {
    "ExecuteTime": {
     "end_time": "2024-06-09T14:18:46.425284700Z",
     "start_time": "2024-06-09T14:18:46.361345700Z"
    },
    "execution": {
     "iopub.execute_input": "2024-02-09T07:51:42.704024Z",
     "iopub.status.busy": "2024-02-09T07:51:42.70303Z",
     "iopub.status.idle": "2024-02-09T07:51:43.000116Z",
     "shell.execute_reply": "2024-02-09T07:51:42.998764Z",
     "shell.execute_reply.started": "2024-02-09T07:51:42.703974Z"
    }
   },
   "outputs": [],
   "source": [
    "\n",
    "# Save the vectorizer\n",
    "filename_vectorizer = 'vectorizer.sav'\n",
    "pickle.dump(vectorizer, open(filename_vectorizer, 'wb'))"
   ]
  },
  {
   "cell_type": "markdown",
   "metadata": {},
   "source": [
    "USING SAVED MODEL FOR FUTURE PREDICITON"
   ]
  },
  {
   "cell_type": "code",
   "execution_count": 34,
   "metadata": {
    "ExecuteTime": {
     "end_time": "2024-06-09T14:18:48.049493Z",
     "start_time": "2024-06-09T14:18:48.017860800Z"
    },
    "execution": {
     "iopub.execute_input": "2024-02-09T07:51:45.589832Z",
     "iopub.status.busy": "2024-02-09T07:51:45.588336Z",
     "iopub.status.idle": "2024-02-09T07:51:45.597571Z",
     "shell.execute_reply": "2024-02-09T07:51:45.596287Z",
     "shell.execute_reply.started": "2024-02-09T07:51:45.589776Z"
    }
   },
   "outputs": [],
   "source": [
    "loaded_model = pickle.load(open('D:/sem 6/lab/NPL/project/project-4/trained_model.sav','rb'))"
   ]
  },
  {
   "cell_type": "code",
   "execution_count": 35,
   "metadata": {
    "ExecuteTime": {
     "end_time": "2024-06-09T14:18:48.705116Z",
     "start_time": "2024-06-09T14:18:48.704609700Z"
    },
    "execution": {
     "iopub.execute_input": "2024-02-09T07:51:48.658829Z",
     "iopub.status.busy": "2024-02-09T07:51:48.658348Z",
     "iopub.status.idle": "2024-02-09T07:51:48.669157Z",
     "shell.execute_reply": "2024-02-09T07:51:48.667531Z",
     "shell.execute_reply.started": "2024-02-09T07:51:48.658796Z"
    }
   },
   "outputs": [
    {
     "name": "stdout",
     "output_type": "stream",
     "text": [
      "2\n",
      "[2]\n",
      "Positive Tweet\n"
     ]
    }
   ],
   "source": [
    "X_new = X_test[200]\n",
    "print(Y_test[200])\n",
    "prediction = loaded_model.predict(X_new)\n",
    "print(prediction)\n",
    "\n",
    "if (prediction[0] == 0):\n",
    "  print('Negative Tweet')\n",
    "else:\n",
    "  print('Positive Tweet')"
   ]
  },
  {
   "cell_type": "code",
   "execution_count": 36,
   "metadata": {
    "ExecuteTime": {
     "end_time": "2024-06-09T14:18:49.646883400Z",
     "start_time": "2024-06-09T14:18:49.615143Z"
    },
    "execution": {
     "iopub.execute_input": "2024-02-09T07:51:51.348373Z",
     "iopub.status.busy": "2024-02-09T07:51:51.347923Z",
     "iopub.status.idle": "2024-02-09T07:51:51.359391Z",
     "shell.execute_reply": "2024-02-09T07:51:51.357745Z",
     "shell.execute_reply.started": "2024-02-09T07:51:51.348343Z"
    }
   },
   "outputs": [
    {
     "name": "stdout",
     "output_type": "stream",
     "text": [
      "2\n",
      "[2]\n",
      "Positive Tweet\n"
     ]
    }
   ],
   "source": [
    "X_new = X_test[3]\n",
    "print(Y_test[3])\n",
    "prediction = loaded_model.predict(X_new)\n",
    "print(prediction)\n",
    "\n",
    "if (prediction[0] == 0):\n",
    "  print('Negative Tweet')\n",
    "else:\n",
    "  print('Positive Tweet')"
   ]
  },
  {
   "cell_type": "markdown",
   "metadata": {},
   "source": [
    "USING SAVED MODEL"
   ]
  },
  {
   "cell_type": "code",
   "execution_count": 50,
   "metadata": {
    "ExecuteTime": {
     "end_time": "2024-06-09T14:34:59.232413700Z",
     "start_time": "2024-06-09T14:34:59.174570700Z"
    },
    "execution": {
     "iopub.execute_input": "2024-02-09T07:52:10.264173Z",
     "iopub.status.busy": "2024-02-09T07:52:10.262878Z",
     "iopub.status.idle": "2024-02-09T07:52:10.545097Z",
     "shell.execute_reply": "2024-02-09T07:52:10.543781Z",
     "shell.execute_reply.started": "2024-02-09T07:52:10.264104Z"
    }
   },
   "outputs": [],
   "source": [
    "# Importing necessary libraries\n",
    "import re\n",
    "import pickle\n",
    "from nltk.corpus import stopwords\n",
    "\n",
    "# Function for text preprocessing\n",
    "def preprocess_text(text):\n",
    "    text = re.sub('[^a-zA-Z]', ' ', text)\n",
    "    text = text.lower()\n",
    "    text = text.split()\n",
    "    text = [word for word in text if not word in set(stopwords.words('english'))]\n",
    "    text = ' '.join(text)\n",
    "    return text\n",
    "\n",
    "# Load the pre-trained model\n",
    "loaded_model = pickle.load(open('D:/sem 6/lab/NPL/project/project-4/trained_model.sav', 'rb'))\n",
    "\n",
    "# Function for sentiment analysis\n",
    "def predict_sentiment(input_text):\n",
    "    # Preprocess the input text\n",
    "    input_text = preprocess_text(input_text)\n",
    "    # Vectorize the input text using the same vectorizer as during training\n",
    "    input_vectorized = vectorizer.transform([input_text])\n",
    "    # Make prediction\n",
    "    prediction = loaded_model.predict(input_vectorized)\n",
    "    # Display the result\n",
    "    if prediction[0] == 0:\n",
    "        return 'Negative Tweet'\n",
    "    else:\n",
    "        return 'Positive Tweet'\n",
    "\n",
    "# Load the vectorizer used during training\n",
    "vectorizer = pickle.load(open('D:/sem 6/lab/NPL/project/project-4/vectorizer.sav', 'rb'))"
   ]
  },
  {
   "cell_type": "code",
   "execution_count": 48,
   "metadata": {
    "ExecuteTime": {
     "end_time": "2024-06-09T14:23:16.240198400Z",
     "start_time": "2024-06-09T14:23:04.562799400Z"
    },
    "execution": {
     "iopub.execute_input": "2024-02-09T07:52:12.658918Z",
     "iopub.status.busy": "2024-02-09T07:52:12.658424Z",
     "iopub.status.idle": "2024-02-09T07:52:22.495144Z",
     "shell.execute_reply": "2024-02-09T07:52:22.493877Z",
     "shell.execute_reply.started": "2024-02-09T07:52:12.658872Z"
    }
   },
   "outputs": [
    {
     "name": "stdout",
     "output_type": "stream",
     "text": [
      "User Input :  he was soo rude in the video\n",
      "Prediction: Negative Tweet\n"
     ]
    }
   ],
   "source": [
    "# Example usage\n",
    "user_input = input(\"Enter a tweet: \")\n",
    "result = predict_sentiment(user_input)\n",
    "print(\"User Input : \",user_input)\n",
    "print(\"Prediction:\", result)\n"
   ]
  }
 ],
 "metadata": {
  "kaggle": {
   "accelerator": "none",
   "dataSources": [
    {
     "datasetId": 2477,
     "sourceId": 4140,
     "sourceType": "datasetVersion"
    }
   ],
   "dockerImageVersionId": 30646,
   "isGpuEnabled": false,
   "isInternetEnabled": false,
   "language": "python",
   "sourceType": "notebook"
  },
  "kernelspec": {
   "display_name": "Python 3 (ipykernel)",
   "language": "python",
   "name": "python3"
  },
  "language_info": {
   "codemirror_mode": {
    "name": "ipython",
    "version": 3
   },
   "file_extension": ".py",
   "mimetype": "text/x-python",
   "name": "python",
   "nbconvert_exporter": "python",
   "pygments_lexer": "ipython3",
   "version": "3.12.4"
  }
 },
 "nbformat": 4,
 "nbformat_minor": 4
}
